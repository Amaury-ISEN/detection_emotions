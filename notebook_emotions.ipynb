{
 "cells": [
  {
   "cell_type": "code",
   "execution_count": null,
   "metadata": {
    "id": "sbIwrBmBkCB_"
   },
   "outputs": [],
   "source": [
    "import tensorflow as tf\n",
    "import numpy as np\n",
    "from matplotlib import pyplot as pp\n",
    "import glob\n",
    "from sklearn.metrics import accuracy_score, confusion_matrix\n",
    "import cv2"
   ]
  },
  {
   "cell_type": "code",
   "execution_count": null,
   "metadata": {
    "colab": {
     "base_uri": "https://localhost:8080/"
    },
    "executionInfo": {
     "elapsed": 20882,
     "status": "ok",
     "timestamp": 1617221386420,
     "user": {
      "displayName": "Amaury Bonneau",
      "photoUrl": "https://lh3.googleusercontent.com/a-/AOh14Gj3TlCohK9BsSWYZinbSQQ0hvVB0O30oTcP4vE8=s64",
      "userId": "07956092084801424433"
     },
     "user_tz": -120
    },
    "id": "bJm0VG_vkCCg",
    "outputId": "e20a4b3e-1e6c-4596-ebfe-ca7de3d5855d"
   },
   "outputs": [],
   "source": [
    "from google.colab import drive\n",
    "drive.mount(\"/content/gdrive/\", force_remount=True)\n"
   ]
  },
  {
   "cell_type": "code",
   "execution_count": null,
   "metadata": {
    "id": "rXjTxbOikWX1"
   },
   "outputs": [],
   "source": [
    "# On récupère la data depuis un zip que l'on a déposé à la racine de notre drive\n",
    "zip_path = \"/content/gdrive/My Drive/data.zip\"\n",
    "\n",
    "!cp \"{zip_path}\" .\n",
    "\n",
    "!unzip -q data.zip"
   ]
  },
  {
   "cell_type": "markdown",
   "metadata": {
    "id": "5gjAHxPukCCk"
   },
   "source": [
    "### Import en greyscale et batch-resize simultanés des images :"
   ]
  },
  {
   "cell_type": "code",
   "execution_count": null,
   "metadata": {
    "id": "jex72DB-kCCr"
   },
   "outputs": [],
   "source": [
    "train_angry = [cv2.imread(file, 0) for file in glob.glob(\"./data/train/angry/*.jpg\")]\n",
    "train_disgust = [cv2.imread(file, 0) for file in glob.glob(\"./data/train/disgust/*.jpg\")]\n",
    "train_fear = [cv2.imread(file, 0) for file in glob.glob(\"./data/train/fear/*.jpg\")]\n",
    "train_happy = [cv2.imread(file, 0) for file in glob.glob(\"./data/train/happy/*.jpg\")]\n",
    "train_neutral = [cv2.imread(file, 0) for file in glob.glob(\"./data//train/neutral/*.jpg\")]\n",
    "train_sad = [cv2.imread(file, 0) for file in glob.glob(\"./data/train/sad/*.jpg\")]\n",
    "train_surprise = [cv2.imread(file, 0) for file in glob.glob(\"./data/train/surprise/*.jpg\")]\n",
    "\n",
    "test_angry = [cv2.imread(file, 0) for file in glob.glob(\"./data/test/angry/*.jpg\")]\n",
    "test_disgust = [cv2.imread(file, 0) for file in glob.glob(\"./data/test/disgust/*.jpg\")]\n",
    "test_fear = [cv2.imread(file, 0) for file in glob.glob(\"./data/test/fear/*.jpg\")]\n",
    "test_happy = [cv2.imread(file, 0) for file in glob.glob(\"./data/test/happy/*.jpg\")]\n",
    "test_neutral = [cv2.imread(file, 0) for file in glob.glob(\"./data/test/neutral/*.jpg\")]\n",
    "test_sad = [cv2.imread(file, 0) for file in glob.glob(\"./data/test/sad/*.jpg\")]\n",
    "test_surprise = [cv2.imread(file, 0) for file in glob.glob(\"./data/test/surprise/*.jpg\")]"
   ]
  },
  {
   "cell_type": "markdown",
   "metadata": {
    "id": "fleDI4WZkCC_"
   },
   "source": [
    "Batch-resizing :"
   ]
  },
  {
   "cell_type": "code",
   "execution_count": null,
   "metadata": {
    "id": "DJTy2J3ikCDC"
   },
   "outputs": [],
   "source": [
    "train_angry = [cv2.resize(file, (48, 48)) for file in train_angry]\n",
    "train_disgust = [cv2.resize(file, (48, 48)) for file in train_disgust]\n",
    "train_fear = [cv2.resize(file, (48, 48)) for file in train_fear]\n",
    "train_happy = [cv2.resize(file, (48, 48)) for file in train_happy]\n",
    "train_neutral = [cv2.resize(file, (48, 48)) for file in train_neutral]\n",
    "train_sad = [cv2.resize(file, (48, 48)) for file in train_sad]\n",
    "train_surprise = [cv2.resize(file, (48, 48)) for file in train_surprise]"
   ]
  },
  {
   "cell_type": "code",
   "execution_count": null,
   "metadata": {
    "colab": {
     "base_uri": "https://localhost:8080/",
     "height": 285
    },
    "executionInfo": {
     "elapsed": 2867,
     "status": "ok",
     "timestamp": 1617221447364,
     "user": {
      "displayName": "Amaury Bonneau",
      "photoUrl": "https://lh3.googleusercontent.com/a-/AOh14Gj3TlCohK9BsSWYZinbSQQ0hvVB0O30oTcP4vE8=s64",
      "userId": "07956092084801424433"
     },
     "user_tz": -120
    },
    "id": "mlT_H2d_n__o",
    "outputId": "4492b6b6-7a57-43c0-8180-671520875eba"
   },
   "outputs": [
    {
     "data": {
      "text/plain": [
       "<matplotlib.image.AxesImage at 0x7fbd745972d0>"
      ]
     },
     "execution_count": 6,
     "metadata": {
      "tags": []
     },
     "output_type": "execute_result"
    },
    {
     "data": {
      "image/png": "[encoded data removed]",
      "text/plain": [
       "<Figure size 432x288 with 1 Axes>"
      ]
     },
     "metadata": {
      "needs_background": "light",
      "tags": []
     },
     "output_type": "display_data"
    }
   ],
   "source": [
    "pp.imshow(train_happy[10])"
   ]
  },
  {
   "cell_type": "code",
   "execution_count": null,
   "metadata": {
    "colab": {
     "base_uri": "https://localhost:8080/"
    },
    "executionInfo": {
     "elapsed": 2858,
     "status": "ok",
     "timestamp": 1617221447366,
     "user": {
      "displayName": "Amaury Bonneau",
      "photoUrl": "https://lh3.googleusercontent.com/a-/AOh14Gj3TlCohK9BsSWYZinbSQQ0hvVB0O30oTcP4vE8=s64",
      "userId": "07956092084801424433"
     },
     "user_tz": -120
    },
    "id": "6BZhDFMqkCDE",
    "outputId": "06443aca-2cd2-4675-ecdd-e52ecec85f64"
   },
   "outputs": [
    {
     "name": "stdout",
     "output_type": "stream",
     "text": [
      "longueur train_angry : 3980\n",
      "longueur train_disgust : 435\n",
      "longueur train_fear : 4097\n",
      "longueur train_happy : 7212\n",
      "longueur train_neutral : 4965\n",
      "longueur train_sad : 4830\n",
      "longueur train_surprise : 3171\n"
     ]
    }
   ],
   "source": [
    "print(\"longueur train_angry :\", len(train_angry))\n",
    "print(\"longueur train_disgust :\", len(train_disgust))\n",
    "print(\"longueur train_fear :\", len(train_fear))\n",
    "print(\"longueur train_happy :\", len(train_happy))\n",
    "print(\"longueur train_neutral :\", len(train_neutral))\n",
    "print(\"longueur train_sad :\", len(train_sad))\n",
    "print(\"longueur train_surprise :\", len(train_surprise))"
   ]
  },
  {
   "cell_type": "markdown",
   "metadata": {
    "id": "MJchFyLIkCDJ"
   },
   "source": [
    "Concaténons nos morceaux de x_train en un x_train unique :"
   ]
  },
  {
   "cell_type": "code",
   "execution_count": null,
   "metadata": {
    "colab": {
     "base_uri": "https://localhost:8080/"
    },
    "executionInfo": {
     "elapsed": 3752,
     "status": "ok",
     "timestamp": 1617221448268,
     "user": {
      "displayName": "Amaury Bonneau",
      "photoUrl": "https://lh3.googleusercontent.com/a-/AOh14Gj3TlCohK9BsSWYZinbSQQ0hvVB0O30oTcP4vE8=s64",
      "userId": "07956092084801424433"
     },
     "user_tz": -120
    },
    "id": "3kMAyFjzkCDM",
    "outputId": "c9526a38-0e78-40ba-f1aa-1a4843aaf93e"
   },
   "outputs": [
    {
     "data": {
      "text/plain": [
       "(28690, 48, 48)"
      ]
     },
     "execution_count": 8,
     "metadata": {
      "tags": []
     },
     "output_type": "execute_result"
    }
   ],
   "source": [
    "x_train = np.concatenate((np.asarray(train_angry, dtype=list),\n",
    "                          np.asarray(train_disgust, dtype=list),\n",
    "                          np.asarray(train_fear, dtype=list), \n",
    "                          np.asarray(train_happy, dtype=list),\n",
    "                          np.asarray(train_neutral, dtype=list),\n",
    "                          np.asarray(train_sad, dtype=list), \n",
    "                          np.asarray(train_surprise, dtype=list)), axis=0)\n",
    "x_train.shape"
   ]
  },
  {
   "cell_type": "markdown",
   "metadata": {
    "id": "lEhTD3_WkCDO"
   },
   "source": [
    "Concaténons nos morceaux de x_test en un x_test unique :"
   ]
  },
  {
   "cell_type": "code",
   "execution_count": null,
   "metadata": {
    "colab": {
     "base_uri": "https://localhost:8080/"
    },
    "executionInfo": {
     "elapsed": 3742,
     "status": "ok",
     "timestamp": 1617221448270,
     "user": {
      "displayName": "Amaury Bonneau",
      "photoUrl": "https://lh3.googleusercontent.com/a-/AOh14Gj3TlCohK9BsSWYZinbSQQ0hvVB0O30oTcP4vE8=s64",
      "userId": "07956092084801424433"
     },
     "user_tz": -120
    },
    "id": "zsS0LocRkCDQ",
    "outputId": "5d31f7b7-a23f-48ed-936a-627e047d7b1e"
   },
   "outputs": [
    {
     "data": {
      "text/plain": [
       "(7178, 48, 48)"
      ]
     },
     "execution_count": 9,
     "metadata": {
      "tags": []
     },
     "output_type": "execute_result"
    }
   ],
   "source": [
    "x_test = np.concatenate((np.asarray(test_angry, dtype=list),\n",
    "                          np.asarray(test_disgust, dtype=list),\n",
    "                          np.asarray(test_fear, dtype=list), \n",
    "                          np.asarray(test_happy, dtype=list),\n",
    "                          np.asarray(test_neutral, dtype=list),\n",
    "                          np.asarray(test_sad, dtype=list), \n",
    "                          np.asarray(test_surprise, dtype=list)), axis=0)\n",
    "x_test.shape"
   ]
  },
  {
   "cell_type": "markdown",
   "metadata": {
    "id": "PAJXbfQlkCDU"
   },
   "source": [
    "Création des labels, les labels pour les émotions vont de 0 à 6 et sont mappés ainsi :\n",
    "\n",
    "0 - angry\n",
    "\n",
    "1 - disgust\n",
    "\n",
    "2 - fear\n",
    "\n",
    "3 - happy\n",
    "\n",
    "4 - neutral\n",
    "\n",
    "5 - sad\n",
    "\n",
    "6 - surprise"
   ]
  },
  {
   "cell_type": "code",
   "execution_count": null,
   "metadata": {
    "id": "lntYzgjakCDW"
   },
   "outputs": [],
   "source": [
    "y_train_0 = np.zeros((len(train_angry)))\n",
    "y_train_1 = np.ones((len(train_disgust)))\n",
    "y_train_2 = np.ones((len(train_fear)))*2\n",
    "y_train_3 = np.ones((len(train_happy)))*3\n",
    "y_train_4 = np.ones((len(train_neutral)))*4\n",
    "y_train_5 = np.ones((len(train_sad)))*5\n",
    "y_train_6 = np.ones((len(train_surprise)))*6"
   ]
  },
  {
   "cell_type": "code",
   "execution_count": null,
   "metadata": {
    "id": "B9v5e6eVkCDW"
   },
   "outputs": [],
   "source": [
    "y_test_0 = np.zeros((len(test_angry)))\n",
    "y_test_1 = np.ones((len(test_disgust)))\n",
    "y_test_2 = np.ones((len(test_fear)))*2\n",
    "y_test_3 = np.ones((len(test_happy)))*3\n",
    "y_test_4 = np.ones((len(test_neutral)))*4\n",
    "y_test_5 = np.ones((len(test_sad)))*5\n",
    "y_test_6 = np.ones((len(test_surprise)))*6"
   ]
  },
  {
   "cell_type": "markdown",
   "metadata": {
    "id": "YyBU-ELFkCDX"
   },
   "source": [
    "On concatène nos vecteurs colones de labels :"
   ]
  },
  {
   "cell_type": "code",
   "execution_count": null,
   "metadata": {
    "id": "g76P_dFAkCDc"
   },
   "outputs": [],
   "source": [
    "y_train = np.concatenate((np.asarray(y_train_0),\n",
    "                          np.asarray(y_train_1), \n",
    "                          np.asarray(y_train_2), \n",
    "                          np.asarray(y_train_3), \n",
    "                          np.asarray(y_train_4), \n",
    "                          np.asarray(y_train_5),\n",
    "                          np.asarray(y_train_6)), axis=0)"
   ]
  },
  {
   "cell_type": "code",
   "execution_count": null,
   "metadata": {
    "id": "YRFcmPEKkCDe"
   },
   "outputs": [],
   "source": [
    "y_test = np.concatenate((np.asarray(y_test_0),\n",
    "                          np.asarray(y_test_1), \n",
    "                          np.asarray(y_test_2), \n",
    "                          np.asarray(y_test_3), \n",
    "                          np.asarray(y_test_4), \n",
    "                          np.asarray(y_test_5),\n",
    "                          np.asarray(y_test_6)), axis=0)"
   ]
  },
  {
   "cell_type": "code",
   "execution_count": null,
   "metadata": {
    "colab": {
     "base_uri": "https://localhost:8080/"
    },
    "executionInfo": {
     "elapsed": 4080,
     "status": "ok",
     "timestamp": 1617221448633,
     "user": {
      "displayName": "Amaury Bonneau",
      "photoUrl": "https://lh3.googleusercontent.com/a-/AOh14Gj3TlCohK9BsSWYZinbSQQ0hvVB0O30oTcP4vE8=s64",
      "userId": "07956092084801424433"
     },
     "user_tz": -120
    },
    "id": "ytMql7V1kCDf",
    "outputId": "3052d76c-8d2f-4df3-84bb-b436c99356cd"
   },
   "outputs": [
    {
     "data": {
      "text/plain": [
       "28690"
      ]
     },
     "execution_count": 14,
     "metadata": {
      "tags": []
     },
     "output_type": "execute_result"
    }
   ],
   "source": [
    "len(y_train)"
   ]
  },
  {
   "cell_type": "code",
   "execution_count": null,
   "metadata": {
    "colab": {
     "base_uri": "https://localhost:8080/"
    },
    "executionInfo": {
     "elapsed": 4070,
     "status": "ok",
     "timestamp": 1617221448634,
     "user": {
      "displayName": "Amaury Bonneau",
      "photoUrl": "https://lh3.googleusercontent.com/a-/AOh14Gj3TlCohK9BsSWYZinbSQQ0hvVB0O30oTcP4vE8=s64",
      "userId": "07956092084801424433"
     },
     "user_tz": -120
    },
    "id": "thtOji7UkCDi",
    "outputId": "87b01e98-e04e-41d3-ad33-f5154d3404bf"
   },
   "outputs": [
    {
     "data": {
      "text/plain": [
       "7178"
      ]
     },
     "execution_count": 15,
     "metadata": {
      "tags": []
     },
     "output_type": "execute_result"
    }
   ],
   "source": [
    "len(y_test)"
   ]
  },
  {
   "cell_type": "markdown",
   "metadata": {
    "id": "Htzg8oH3ysC4"
   },
   "source": [
    "Shuffle des données"
   ]
  },
  {
   "cell_type": "code",
   "execution_count": null,
   "metadata": {
    "id": "6rKDwmnxyohr"
   },
   "outputs": [],
   "source": [
    "range_aleatoire = np.random.permutation(28690)\n",
    "x_train = x_train[range_aleatoire]\n",
    "y_train = y_train[range_aleatoire]\n",
    "\n",
    "range_aleatoire = np.random.permutation(7178)\n",
    "x_test = x_test[range_aleatoire]\n",
    "y_test = y_test[range_aleatoire]"
   ]
  },
  {
   "cell_type": "markdown",
   "metadata": {
    "id": "LWxzeeYHkCDl"
   },
   "source": [
    "Standardisation"
   ]
  },
  {
   "cell_type": "code",
   "execution_count": null,
   "metadata": {
    "id": "68kvCBlnkCDm"
   },
   "outputs": [],
   "source": [
    "x_train = x_train.astype('float')/255\n",
    "x_test = x_test.astype('float')/255"
   ]
  },
  {
   "cell_type": "code",
   "execution_count": null,
   "metadata": {
    "colab": {
     "base_uri": "https://localhost:8080/"
    },
    "executionInfo": {
     "elapsed": 6187,
     "status": "ok",
     "timestamp": 1617221450770,
     "user": {
      "displayName": "Amaury Bonneau",
      "photoUrl": "https://lh3.googleusercontent.com/a-/AOh14Gj3TlCohK9BsSWYZinbSQQ0hvVB0O30oTcP4vE8=s64",
      "userId": "07956092084801424433"
     },
     "user_tz": -120
    },
    "id": "4A2iKHHskCDu",
    "outputId": "97cd8a89-c6c3-4ed1-b414-18277030e03c"
   },
   "outputs": [
    {
     "data": {
      "text/plain": [
       "(28690, 48, 48)"
      ]
     },
     "execution_count": 18,
     "metadata": {
      "tags": []
     },
     "output_type": "execute_result"
    }
   ],
   "source": [
    "x_train.shape"
   ]
  },
  {
   "cell_type": "code",
   "execution_count": null,
   "metadata": {
    "colab": {
     "base_uri": "https://localhost:8080/"
    },
    "executionInfo": {
     "elapsed": 6619,
     "status": "ok",
     "timestamp": 1617221451213,
     "user": {
      "displayName": "Amaury Bonneau",
      "photoUrl": "https://lh3.googleusercontent.com/a-/AOh14Gj3TlCohK9BsSWYZinbSQQ0hvVB0O30oTcP4vE8=s64",
      "userId": "07956092084801424433"
     },
     "user_tz": -120
    },
    "id": "sQE7_sXHkCDv",
    "outputId": "4fcbb6a5-a7b7-4f07-f62f-fadca72f809c"
   },
   "outputs": [
    {
     "data": {
      "text/plain": [
       "(28690, 48, 48)"
      ]
     },
     "execution_count": 19,
     "metadata": {
      "tags": []
     },
     "output_type": "execute_result"
    }
   ],
   "source": [
    "x_train.shape"
   ]
  },
  {
   "cell_type": "code",
   "execution_count": null,
   "metadata": {
    "colab": {
     "base_uri": "https://localhost:8080/"
    },
    "executionInfo": {
     "elapsed": 6612,
     "status": "ok",
     "timestamp": 1617221451215,
     "user": {
      "displayName": "Amaury Bonneau",
      "photoUrl": "https://lh3.googleusercontent.com/a-/AOh14Gj3TlCohK9BsSWYZinbSQQ0hvVB0O30oTcP4vE8=s64",
      "userId": "07956092084801424433"
     },
     "user_tz": -120
    },
    "id": "f_WHVuytkCDx",
    "outputId": "27eb7335-4676-4647-85a8-17ba77828f54"
   },
   "outputs": [
    {
     "data": {
      "text/plain": [
       "(28690,)"
      ]
     },
     "execution_count": 20,
     "metadata": {
      "tags": []
     },
     "output_type": "execute_result"
    }
   ],
   "source": [
    "y_train.shape"
   ]
  },
  {
   "cell_type": "code",
   "execution_count": null,
   "metadata": {
    "id": "Fv3B5UfzkCD1"
   },
   "outputs": [],
   "source": [
    "x_train = x_train.reshape(-1, 48, 48, 1)"
   ]
  },
  {
   "cell_type": "markdown",
   "metadata": {
    "id": "XiCc_tBDzapW"
   },
   "source": []
  },
  {
   "cell_type": "code",
   "execution_count": null,
   "metadata": {
    "id": "RFEeSF7ukCD2"
   },
   "outputs": [],
   "source": [
    "x_test = x_test.reshape(-1, 48, 48, 1)"
   ]
  },
  {
   "cell_type": "code",
   "execution_count": null,
   "metadata": {
    "colab": {
     "base_uri": "https://localhost:8080/"
    },
    "executionInfo": {
     "elapsed": 6604,
     "status": "ok",
     "timestamp": 1617221451224,
     "user": {
      "displayName": "Amaury Bonneau",
      "photoUrl": "https://lh3.googleusercontent.com/a-/AOh14Gj3TlCohK9BsSWYZinbSQQ0hvVB0O30oTcP4vE8=s64",
      "userId": "07956092084801424433"
     },
     "user_tz": -120
    },
    "id": "EwxMJTJikCD5",
    "outputId": "0919fde2-d9bb-4db6-c0c0-0f981ff2df81"
   },
   "outputs": [
    {
     "data": {
      "text/plain": [
       "(28690, 48, 48, 1)"
      ]
     },
     "execution_count": 23,
     "metadata": {
      "tags": []
     },
     "output_type": "execute_result"
    }
   ],
   "source": [
    "x_train.shape"
   ]
  },
  {
   "cell_type": "code",
   "execution_count": null,
   "metadata": {
    "colab": {
     "base_uri": "https://localhost:8080/"
    },
    "executionInfo": {
     "elapsed": 6598,
     "status": "ok",
     "timestamp": 1617221451227,
     "user": {
      "displayName": "Amaury Bonneau",
      "photoUrl": "https://lh3.googleusercontent.com/a-/AOh14Gj3TlCohK9BsSWYZinbSQQ0hvVB0O30oTcP4vE8=s64",
      "userId": "07956092084801424433"
     },
     "user_tz": -120
    },
    "id": "RUDx-qDAkCD-",
    "outputId": "6ad613fb-cf99-4192-fb41-09c699f5fc8d",
    "scrolled": false
   },
   "outputs": [
    {
     "data": {
      "text/plain": [
       "(28690,)"
      ]
     },
     "execution_count": 24,
     "metadata": {
      "tags": []
     },
     "output_type": "execute_result"
    }
   ],
   "source": [
    "y_train.shape"
   ]
  },
  {
   "cell_type": "markdown",
   "metadata": {
    "id": "TvCCkmcPkCED"
   },
   "source": [
    "One-hot encoding du y_train :"
   ]
  },
  {
   "cell_type": "code",
   "execution_count": null,
   "metadata": {
    "id": "4r086fE_kCEG"
   },
   "outputs": [],
   "source": [
    "# Cette méthode va convertir notre vecteur de integers allant de 0 à 6 (nos 7 classes)\n",
    "# vers une matrice de classes binaire qui sera compatible avec model.fit():\n",
    "from tensorflow.keras.utils import to_categorical\n",
    "y_train_encoded = to_categorical(y_train)\n",
    "y_test_encoded = to_categorical(y_test)"
   ]
  },
  {
   "cell_type": "code",
   "execution_count": null,
   "metadata": {
    "id": "sxXnItNq0HWZ"
   },
   "outputs": [],
   "source": [
    "from tensorflow.keras.models import load_model"
   ]
  },
  {
   "cell_type": "markdown",
   "metadata": {
    "id": "837zvUbKkCEG"
   },
   "source": [
    "Création du modèle"
   ]
  },
  {
   "cell_type": "code",
   "execution_count": null,
   "metadata": {
    "id": "x-ZGIcflKJsG"
   },
   "outputs": [],
   "source": [
    "from tensorflow.keras.callbacks import Callback, EarlyStopping, ReduceLROnPlateau"
   ]
  },
  {
   "cell_type": "markdown",
   "metadata": {
    "id": "tBCYvqBoKdP2"
   },
   "source": [
    "Utilisation de callbacks de la bibliothèque Keras pour affiner notre modèle."
   ]
  },
  {
   "cell_type": "code",
   "execution_count": null,
   "metadata": {
    "id": "0N8Kw8HcHq_j"
   },
   "outputs": [],
   "source": [
    "# Le Early Stopping est un callback qui va arrêter l'apprentissage afin d'éviter le suraprentissage.\n",
    "early_stopping = EarlyStopping(\n",
    "    monitor='val_accuracy',\n",
    "    min_delta=0.00005,\n",
    "    patience=11,\n",
    "    verbose=1,\n",
    "    restore_best_weights=True,\n",
    ")\n",
    "\n",
    "# Le Reduce LR on Plateau va réduire le learning rate lorsque la val_accuracy atteint un plateau afin\n",
    "# que le modèle continue à apprendre des features interessantes :\n",
    "ReduceLROnPlateau = ReduceLROnPlateau(\n",
    "    monitor='val_accuracy',\n",
    "    factor=0.5,\n",
    "    patience=7,\n",
    "    min_lr=1e-7,\n",
    "    verbose=1,\n",
    ")\n",
    "\n",
    "# On charge nos callbacks dans une liste :\n",
    "callbacks = [early_stopping, ReduceLROnPlateau]"
   ]
  },
  {
   "cell_type": "code",
   "execution_count": null,
   "metadata": {
    "id": "JdfiSyYKVwQZ"
   },
   "outputs": [],
   "source": [
    "\"\"\"\n",
    "from tensorflow.keras.preprocessing.image import ImageDataGenerator\n",
    "\n",
    "train_datagen = ImageDataGenerator(\n",
    "    rotation_range=15,\n",
    "    width_shift_range=0.15,\n",
    "    height_shift_range=0.15,\n",
    "    shear_range=0.15,\n",
    "    zoom_range=0.15,\n",
    "    horizontal_flip=True,\n",
    ")\n",
    "\n",
    "train_datagen.fit(x_train)\n",
    "\"\"\""
   ]
  },
  {
   "cell_type": "code",
   "execution_count": null,
   "metadata": {
    "colab": {
     "base_uri": "https://localhost:8080/"
    },
    "executionInfo": {
     "elapsed": 725186,
     "status": "ok",
     "timestamp": 1617222411242,
     "user": {
      "displayName": "Amaury Bonneau",
      "photoUrl": "https://lh3.googleusercontent.com/a-/AOh14Gj3TlCohK9BsSWYZinbSQQ0hvVB0O30oTcP4vE8=s64",
      "userId": "07956092084801424433"
     },
     "user_tz": -120
    },
    "id": "TYlG73cX9Ixs",
    "outputId": "98af28e8-648d-4d90-bd60-9dd24e167a3f"
   },
   "outputs": [
    {
     "name": "stdout",
     "output_type": "stream",
     "text": [
      "Epoch 1/200\n",
      "718/718 [==============================] - 10s 11ms/step - loss: 2.6490 - accuracy: 0.2097 - val_loss: 1.8136 - val_accuracy: 0.3048\n",
      "Epoch 2/200\n",
      "718/718 [==============================] - 8s 11ms/step - loss: 1.6924 - accuracy: 0.3388 - val_loss: 1.6351 - val_accuracy: 0.3803\n",
      "Epoch 3/200\n",
      "718/718 [==============================] - 8s 11ms/step - loss: 1.5519 - accuracy: 0.3977 - val_loss: 1.4579 - val_accuracy: 0.4195\n",
      "Epoch 4/200\n",
      "718/718 [==============================] - 8s 11ms/step - loss: 1.4835 - accuracy: 0.4327 - val_loss: 1.5643 - val_accuracy: 0.4068\n",
      "Epoch 5/200\n",
      "718/718 [==============================] - 8s 11ms/step - loss: 1.4129 - accuracy: 0.4557 - val_loss: 1.5169 - val_accuracy: 0.4223\n",
      "Epoch 6/200\n",
      "718/718 [==============================] - 8s 11ms/step - loss: 1.3831 - accuracy: 0.4733 - val_loss: 1.3837 - val_accuracy: 0.4578\n",
      "Epoch 7/200\n",
      "718/718 [==============================] - 8s 11ms/step - loss: 1.3508 - accuracy: 0.4822 - val_loss: 1.2723 - val_accuracy: 0.5186\n",
      "Epoch 8/200\n",
      "718/718 [==============================] - 8s 11ms/step - loss: 1.3011 - accuracy: 0.5081 - val_loss: 1.4054 - val_accuracy: 0.4592\n",
      "Epoch 9/200\n",
      "718/718 [==============================] - 8s 11ms/step - loss: 1.2865 - accuracy: 0.5103 - val_loss: 1.2446 - val_accuracy: 0.5220\n",
      "Epoch 10/200\n",
      "718/718 [==============================] - 8s 11ms/step - loss: 1.2635 - accuracy: 0.5231 - val_loss: 1.2170 - val_accuracy: 0.5329\n",
      "Epoch 11/200\n",
      "718/718 [==============================] - 8s 11ms/step - loss: 1.2424 - accuracy: 0.5278 - val_loss: 1.2256 - val_accuracy: 0.5385\n",
      "Epoch 12/200\n",
      "718/718 [==============================] - 8s 11ms/step - loss: 1.2351 - accuracy: 0.5291 - val_loss: 1.2131 - val_accuracy: 0.5408\n",
      "Epoch 13/200\n",
      "718/718 [==============================] - 8s 11ms/step - loss: 1.2089 - accuracy: 0.5424 - val_loss: 1.3842 - val_accuracy: 0.4709\n",
      "Epoch 14/200\n",
      "718/718 [==============================] - 8s 11ms/step - loss: 1.1969 - accuracy: 0.5467 - val_loss: 1.2323 - val_accuracy: 0.5403\n",
      "Epoch 15/200\n",
      "718/718 [==============================] - 8s 11ms/step - loss: 1.1673 - accuracy: 0.5559 - val_loss: 1.1944 - val_accuracy: 0.5498\n",
      "Epoch 16/200\n",
      "718/718 [==============================] - 8s 11ms/step - loss: 1.1514 - accuracy: 0.5624 - val_loss: 1.1569 - val_accuracy: 0.5608\n",
      "Epoch 17/200\n",
      "718/718 [==============================] - 8s 11ms/step - loss: 1.1393 - accuracy: 0.5681 - val_loss: 1.1980 - val_accuracy: 0.5509\n",
      "Epoch 18/200\n",
      "718/718 [==============================] - 8s 11ms/step - loss: 1.1265 - accuracy: 0.5742 - val_loss: 1.1671 - val_accuracy: 0.5556\n",
      "Epoch 19/200\n",
      "718/718 [==============================] - 8s 11ms/step - loss: 1.1179 - accuracy: 0.5776 - val_loss: 1.1573 - val_accuracy: 0.5666\n",
      "Epoch 20/200\n",
      "718/718 [==============================] - 8s 11ms/step - loss: 1.1031 - accuracy: 0.5865 - val_loss: 1.1677 - val_accuracy: 0.5671\n",
      "Epoch 21/200\n",
      "718/718 [==============================] - 8s 11ms/step - loss: 1.0857 - accuracy: 0.5903 - val_loss: 1.2106 - val_accuracy: 0.5357\n",
      "Epoch 22/200\n",
      "718/718 [==============================] - 8s 11ms/step - loss: 1.0856 - accuracy: 0.5902 - val_loss: 1.1620 - val_accuracy: 0.5655\n",
      "Epoch 23/200\n",
      "718/718 [==============================] - 8s 11ms/step - loss: 1.0593 - accuracy: 0.6061 - val_loss: 1.1770 - val_accuracy: 0.5594\n",
      "Epoch 24/200\n",
      "718/718 [==============================] - 8s 11ms/step - loss: 1.0541 - accuracy: 0.6014 - val_loss: 1.1381 - val_accuracy: 0.5687\n",
      "Epoch 25/200\n",
      "718/718 [==============================] - 8s 11ms/step - loss: 1.0382 - accuracy: 0.6079 - val_loss: 1.1595 - val_accuracy: 0.5680\n",
      "Epoch 26/200\n",
      "718/718 [==============================] - 8s 11ms/step - loss: 1.0376 - accuracy: 0.6109 - val_loss: 1.1653 - val_accuracy: 0.5688\n",
      "Epoch 27/200\n",
      "718/718 [==============================] - 8s 11ms/step - loss: 1.0347 - accuracy: 0.6088 - val_loss: 1.1834 - val_accuracy: 0.5654\n",
      "Epoch 28/200\n",
      "718/718 [==============================] - 8s 11ms/step - loss: 1.0265 - accuracy: 0.6094 - val_loss: 1.2372 - val_accuracy: 0.5493\n",
      "Epoch 29/200\n",
      "718/718 [==============================] - 8s 11ms/step - loss: 1.0068 - accuracy: 0.6222 - val_loss: 1.1300 - val_accuracy: 0.5821\n",
      "Epoch 30/200\n",
      "718/718 [==============================] - 8s 11ms/step - loss: 1.0024 - accuracy: 0.6306 - val_loss: 1.1607 - val_accuracy: 0.5749\n",
      "Epoch 31/200\n",
      "718/718 [==============================] - 8s 11ms/step - loss: 0.9716 - accuracy: 0.6257 - val_loss: 1.1308 - val_accuracy: 0.5894\n",
      "Epoch 32/200\n",
      "718/718 [==============================] - 8s 11ms/step - loss: 0.9867 - accuracy: 0.6244 - val_loss: 1.1399 - val_accuracy: 0.5760\n",
      "Epoch 33/200\n",
      "718/718 [==============================] - 8s 11ms/step - loss: 0.9728 - accuracy: 0.6362 - val_loss: 1.1361 - val_accuracy: 0.5765\n",
      "Epoch 34/200\n",
      "718/718 [==============================] - 8s 11ms/step - loss: 0.9766 - accuracy: 0.6384 - val_loss: 1.1315 - val_accuracy: 0.5835\n",
      "Epoch 35/200\n",
      "718/718 [==============================] - 8s 11ms/step - loss: 0.9550 - accuracy: 0.6485 - val_loss: 1.1522 - val_accuracy: 0.5783\n",
      "Epoch 36/200\n",
      "718/718 [==============================] - 8s 11ms/step - loss: 0.9493 - accuracy: 0.6418 - val_loss: 1.1867 - val_accuracy: 0.5732\n",
      "Epoch 37/200\n",
      "718/718 [==============================] - 8s 11ms/step - loss: 0.9540 - accuracy: 0.6466 - val_loss: 1.1285 - val_accuracy: 0.5948\n",
      "Epoch 38/200\n",
      "718/718 [==============================] - 8s 11ms/step - loss: 0.9397 - accuracy: 0.6524 - val_loss: 1.1285 - val_accuracy: 0.5871\n",
      "Epoch 39/200\n",
      "718/718 [==============================] - 8s 11ms/step - loss: 0.9333 - accuracy: 0.6542 - val_loss: 1.1444 - val_accuracy: 0.5751\n",
      "Epoch 40/200\n",
      "718/718 [==============================] - 8s 11ms/step - loss: 0.9340 - accuracy: 0.6525 - val_loss: 1.1333 - val_accuracy: 0.5877\n",
      "Epoch 41/200\n",
      "718/718 [==============================] - 8s 11ms/step - loss: 0.9225 - accuracy: 0.6580 - val_loss: 1.1758 - val_accuracy: 0.5737\n",
      "Epoch 42/200\n",
      "718/718 [==============================] - 8s 11ms/step - loss: 0.9099 - accuracy: 0.6605 - val_loss: 1.1381 - val_accuracy: 0.5884\n",
      "Epoch 43/200\n",
      "718/718 [==============================] - 8s 11ms/step - loss: 0.9080 - accuracy: 0.6618 - val_loss: 1.1369 - val_accuracy: 0.5934\n",
      "Epoch 44/200\n",
      "718/718 [==============================] - 8s 11ms/step - loss: 0.9059 - accuracy: 0.6638 - val_loss: 1.1321 - val_accuracy: 0.5910\n",
      "\n",
      "Epoch 00044: ReduceLROnPlateau reducing learning rate to 0.0005000000237487257.\n",
      "Epoch 45/200\n",
      "718/718 [==============================] - 8s 11ms/step - loss: 0.8679 - accuracy: 0.6735 - val_loss: 1.1347 - val_accuracy: 0.5950\n",
      "Epoch 46/200\n",
      "718/718 [==============================] - 8s 11ms/step - loss: 0.8461 - accuracy: 0.6893 - val_loss: 1.1389 - val_accuracy: 0.5939\n",
      "Epoch 47/200\n",
      "718/718 [==============================] - 8s 11ms/step - loss: 0.8249 - accuracy: 0.6944 - val_loss: 1.1567 - val_accuracy: 0.5953\n",
      "Epoch 48/200\n",
      "718/718 [==============================] - 8s 11ms/step - loss: 0.8166 - accuracy: 0.6995 - val_loss: 1.1351 - val_accuracy: 0.6060\n",
      "Epoch 49/200\n",
      "718/718 [==============================] - 8s 11ms/step - loss: 0.8029 - accuracy: 0.7011 - val_loss: 1.1227 - val_accuracy: 0.5985\n",
      "Epoch 50/200\n",
      "718/718 [==============================] - 8s 11ms/step - loss: 0.7989 - accuracy: 0.7068 - val_loss: 1.1615 - val_accuracy: 0.5986\n",
      "Epoch 51/200\n",
      "718/718 [==============================] - 8s 11ms/step - loss: 0.7807 - accuracy: 0.7153 - val_loss: 1.1616 - val_accuracy: 0.6049\n",
      "Epoch 52/200\n",
      "718/718 [==============================] - 8s 11ms/step - loss: 0.7734 - accuracy: 0.7114 - val_loss: 1.1379 - val_accuracy: 0.6051\n",
      "Epoch 53/200\n",
      "718/718 [==============================] - 8s 11ms/step - loss: 0.7614 - accuracy: 0.7228 - val_loss: 1.1670 - val_accuracy: 0.6093\n",
      "Epoch 54/200\n",
      "718/718 [==============================] - 8s 11ms/step - loss: 0.7674 - accuracy: 0.7198 - val_loss: 1.2154 - val_accuracy: 0.5863\n",
      "Epoch 55/200\n",
      "718/718 [==============================] - 8s 11ms/step - loss: 0.7613 - accuracy: 0.7168 - val_loss: 1.1580 - val_accuracy: 0.6007\n",
      "Epoch 56/200\n",
      "718/718 [==============================] - 8s 11ms/step - loss: 0.7530 - accuracy: 0.7233 - val_loss: 1.1969 - val_accuracy: 0.5962\n",
      "Epoch 57/200\n",
      "718/718 [==============================] - 8s 11ms/step - loss: 0.7511 - accuracy: 0.7219 - val_loss: 1.1595 - val_accuracy: 0.6056\n",
      "Epoch 58/200\n",
      "718/718 [==============================] - 8s 11ms/step - loss: 0.7320 - accuracy: 0.7312 - val_loss: 1.1428 - val_accuracy: 0.6081\n",
      "Epoch 59/200\n",
      "718/718 [==============================] - 8s 11ms/step - loss: 0.7220 - accuracy: 0.7325 - val_loss: 1.1596 - val_accuracy: 0.6000\n",
      "Epoch 60/200\n",
      "718/718 [==============================] - 8s 11ms/step - loss: 0.7387 - accuracy: 0.7282 - val_loss: 1.1585 - val_accuracy: 0.6063\n",
      "\n",
      "Epoch 00060: ReduceLROnPlateau reducing learning rate to 0.0002500000118743628.\n",
      "Epoch 61/200\n",
      "718/718 [==============================] - 8s 11ms/step - loss: 0.7216 - accuracy: 0.7275 - val_loss: 1.1707 - val_accuracy: 0.6107\n",
      "Epoch 62/200\n",
      "718/718 [==============================] - 8s 11ms/step - loss: 0.6978 - accuracy: 0.7409 - val_loss: 1.1600 - val_accuracy: 0.6114\n",
      "Epoch 63/200\n",
      "718/718 [==============================] - 8s 11ms/step - loss: 0.6961 - accuracy: 0.7418 - val_loss: 1.1878 - val_accuracy: 0.6105\n",
      "Epoch 64/200\n",
      "718/718 [==============================] - 8s 11ms/step - loss: 0.6887 - accuracy: 0.7480 - val_loss: 1.1750 - val_accuracy: 0.6060\n",
      "Epoch 65/200\n",
      "718/718 [==============================] - 8s 11ms/step - loss: 0.6846 - accuracy: 0.7469 - val_loss: 1.1750 - val_accuracy: 0.6100\n",
      "Epoch 66/200\n",
      "718/718 [==============================] - 8s 11ms/step - loss: 0.6799 - accuracy: 0.7509 - val_loss: 1.1802 - val_accuracy: 0.6079\n",
      "Epoch 67/200\n",
      "718/718 [==============================] - 8s 11ms/step - loss: 0.6732 - accuracy: 0.7551 - val_loss: 1.1853 - val_accuracy: 0.6114\n",
      "Epoch 68/200\n",
      "718/718 [==============================] - 8s 11ms/step - loss: 0.6695 - accuracy: 0.7544 - val_loss: 1.1824 - val_accuracy: 0.6108\n",
      "Epoch 69/200\n",
      "718/718 [==============================] - 8s 11ms/step - loss: 0.6612 - accuracy: 0.7607 - val_loss: 1.1813 - val_accuracy: 0.6098\n",
      "\n",
      "Epoch 00069: ReduceLROnPlateau reducing learning rate to 0.0001250000059371814.\n",
      "Epoch 70/200\n",
      "718/718 [==============================] - 8s 11ms/step - loss: 0.6407 - accuracy: 0.7656 - val_loss: 1.1856 - val_accuracy: 0.6115\n",
      "Epoch 71/200\n",
      "718/718 [==============================] - 8s 11ms/step - loss: 0.6665 - accuracy: 0.7521 - val_loss: 1.1857 - val_accuracy: 0.6117\n",
      "Epoch 72/200\n",
      "718/718 [==============================] - 8s 11ms/step - loss: 0.6469 - accuracy: 0.7592 - val_loss: 1.1921 - val_accuracy: 0.6082\n",
      "Epoch 73/200\n",
      "718/718 [==============================] - 8s 11ms/step - loss: 0.6323 - accuracy: 0.7694 - val_loss: 1.1849 - val_accuracy: 0.6150\n",
      "Epoch 74/200\n",
      "718/718 [==============================] - 8s 11ms/step - loss: 0.6364 - accuracy: 0.7640 - val_loss: 1.1906 - val_accuracy: 0.6133\n",
      "Epoch 75/200\n",
      "718/718 [==============================] - 8s 11ms/step - loss: 0.6293 - accuracy: 0.7665 - val_loss: 1.1805 - val_accuracy: 0.6147\n",
      "Epoch 76/200\n",
      "718/718 [==============================] - 8s 11ms/step - loss: 0.6290 - accuracy: 0.7689 - val_loss: 1.1912 - val_accuracy: 0.6121\n",
      "Epoch 77/200\n",
      "718/718 [==============================] - 8s 11ms/step - loss: 0.6391 - accuracy: 0.7651 - val_loss: 1.2097 - val_accuracy: 0.6089\n",
      "Epoch 78/200\n",
      "718/718 [==============================] - 8s 11ms/step - loss: 0.6129 - accuracy: 0.7731 - val_loss: 1.2224 - val_accuracy: 0.6108\n",
      "Epoch 79/200\n",
      "718/718 [==============================] - 8s 11ms/step - loss: 0.6359 - accuracy: 0.7666 - val_loss: 1.2141 - val_accuracy: 0.6101\n",
      "Epoch 80/200\n",
      "718/718 [==============================] - 8s 11ms/step - loss: 0.6140 - accuracy: 0.7747 - val_loss: 1.2217 - val_accuracy: 0.6103\n",
      "\n",
      "Epoch 00080: ReduceLROnPlateau reducing learning rate to 6.25000029685907e-05.\n",
      "Epoch 81/200\n",
      "718/718 [==============================] - 8s 11ms/step - loss: 0.6199 - accuracy: 0.7723 - val_loss: 1.1991 - val_accuracy: 0.6152\n",
      "Epoch 82/200\n",
      "718/718 [==============================] - 8s 11ms/step - loss: 0.5968 - accuracy: 0.7799 - val_loss: 1.2095 - val_accuracy: 0.6136\n",
      "Epoch 83/200\n",
      "718/718 [==============================] - 8s 11ms/step - loss: 0.6049 - accuracy: 0.7777 - val_loss: 1.2036 - val_accuracy: 0.6114\n",
      "Epoch 84/200\n",
      "718/718 [==============================] - 8s 11ms/step - loss: 0.6086 - accuracy: 0.7769 - val_loss: 1.1984 - val_accuracy: 0.6142\n",
      "Epoch 85/200\n",
      "718/718 [==============================] - 8s 11ms/step - loss: 0.6090 - accuracy: 0.7780 - val_loss: 1.2045 - val_accuracy: 0.6138\n",
      "Epoch 86/200\n",
      "718/718 [==============================] - 8s 11ms/step - loss: 0.5937 - accuracy: 0.7842 - val_loss: 1.2100 - val_accuracy: 0.6136\n",
      "Epoch 87/200\n",
      "718/718 [==============================] - 8s 11ms/step - loss: 0.6032 - accuracy: 0.7873 - val_loss: 1.2046 - val_accuracy: 0.6145\n",
      "Epoch 88/200\n",
      "718/718 [==============================] - 8s 11ms/step - loss: 0.6049 - accuracy: 0.7774 - val_loss: 1.2007 - val_accuracy: 0.6142\n",
      "\n",
      "Epoch 00088: ReduceLROnPlateau reducing learning rate to 3.125000148429535e-05.\n",
      "Epoch 89/200\n",
      "718/718 [==============================] - 8s 11ms/step - loss: 0.6106 - accuracy: 0.7725 - val_loss: 1.2075 - val_accuracy: 0.6148\n",
      "Epoch 90/200\n",
      "718/718 [==============================] - 8s 11ms/step - loss: 0.5956 - accuracy: 0.7815 - val_loss: 1.2073 - val_accuracy: 0.6136\n",
      "Epoch 91/200\n",
      "718/718 [==============================] - 8s 11ms/step - loss: 0.5889 - accuracy: 0.7833 - val_loss: 1.2107 - val_accuracy: 0.6142\n",
      "Epoch 92/200\n",
      "718/718 [==============================] - 8s 11ms/step - loss: 0.6006 - accuracy: 0.7786 - val_loss: 1.2077 - val_accuracy: 0.6138\n",
      "Restoring model weights from the end of the best epoch.\n",
      "Epoch 00092: early stopping\n",
      "INFO:tensorflow:Assets written to: /content/gdrive/My Drive/modele_emotions/assets\n",
      "accuracy_score : 0.6286\n"
     ]
    }
   ],
   "source": [
    "model = tf.keras.Sequential()\n",
    "\n",
    "# Conv2D avec elu en activation.\n",
    "# ELU (Exponential Linear Unit) approche les valeurs moyennes proches\n",
    "# de zéro et améliore les performances d'entraînement. \n",
    "model.add(tf.keras.layers.Conv2D(32,7,\n",
    "                                padding=\"same\",\n",
    "                                activation=\"elu\",\n",
    "                                input_shape=(48,48,1),\n",
    "                                kernel_initializer='he_normal',))\n",
    "\n",
    "model.add(tf.keras.layers.MaxPooling2D(2,2))\n",
    "model.add(tf.keras.layers.BatchNormalization())\n",
    "\n",
    "# Drop-out et bruit pour éviter le surapprentissage :\n",
    "model.add(tf.keras.layers.Dropout(0.5))\n",
    "model.add(tf.keras.layers.GaussianNoise(0.5))\n",
    "\n",
    "model.add(tf.keras.layers.Conv2D(128, 5,\n",
    "                                padding=\"same\",\n",
    "                                activation=\"elu\",\n",
    "                                kernel_initializer='he_normal',))\n",
    "\n",
    "model.add(tf.keras.layers.MaxPooling2D(2,2))\n",
    "model.add(tf.keras.layers.BatchNormalization())\n",
    "\n",
    "# Le modèle marche certes mieux avec des activations \"elu\"\n",
    "# en général mais en gardant une \"relu\" ici il donne un meilleur résultat. \n",
    "model.add(tf.keras.layers.Conv2D(128, 3,\n",
    "                                padding=\"same\",\n",
    "                                activation=\"relu\"))\n",
    "\n",
    "model.add(tf.keras.layers.MaxPooling2D(2))\n",
    "model.add(tf.keras.layers.BatchNormalization())\n",
    "\n",
    "model.add(tf.keras.layers.Dropout(0.5))\n",
    "model.add(tf.keras.layers.GaussianNoise(0.5))\n",
    "#\n",
    "model.add(tf.keras.layers.Conv2D(128, 7,\n",
    "                                padding=\"same\",\n",
    "                                activation=\"relu\",\n",
    "                                #activation=\"elu\",\n",
    "                                #kernel_initializer='he_normal'\n",
    "                                ))\n",
    "\n",
    "model.add(tf.keras.layers.MaxPooling2D(2,2))\n",
    "model.add(tf.keras.layers.BatchNormalization())\n",
    "\n",
    "\n",
    "model.add(tf.keras.layers.Dropout(0.5))\n",
    "model.add(tf.keras.layers.GaussianNoise(0.5))\n",
    "\n",
    "\n",
    "model.add(tf.keras.layers.Flatten())\n",
    "\n",
    "model.add(tf.keras.layers.Dense((128), activation=\"elu\", kernel_initializer=\"he_normal\"))\n",
    "model.add(tf.keras.layers.Dropout(0.5))\n",
    "model.add(tf.keras.layers.GaussianNoise(0.5))\n",
    "\n",
    "# Dense de sortie avec 7 unités pour les sept classes d'émotion.\n",
    "model.add(tf.keras.layers.Dense(7, activation='softmax'))\n",
    "\n",
    "# Pour l'optimiseur, Nadam est une version modifiée de Adam qui intègre le Nesterov\n",
    "# Accelerated Gradient (NAG) pour le momentum.\n",
    "#(momentum = aggrégat de gradients qui remplace le stochastic gradient descent)\n",
    "opti = tf.keras.optimizers.Nadam(learning_rate=0.001)\n",
    "\n",
    "model.compile(loss=\"categorical_crossentropy\",\n",
    "             optimizer=opti,\n",
    "             metrics=[\"accuracy\"]\n",
    "             )\n",
    "\n",
    "# On intègre les callbacks créés plus haut à notre fit.\n",
    "history = model.fit(x_train,\n",
    "                    y_train_encoded,\n",
    "                    epochs=200,\n",
    "                    validation_split=0.2,\n",
    "                    batch_size=32,\n",
    "                    shuffle=True,\n",
    "                    callbacks=callbacks,\n",
    "                    use_multiprocessing=True\n",
    "                    )\n",
    "\n",
    "# Sauvegarde du modèle qui a été faite sur drive.\n",
    "#model.save(\"/content/gdrive/My Drive/modele_emotions\")\n",
    "\n",
    "# On prédit sur test pour avoir l'accuracy réelle.\n",
    "y_pred = model.predict(x_test)\n",
    "\n",
    "y_pred = [e.argmax() for e in y_pred]\n",
    "\n",
    "print(\"accuracy_score :\", accuracy_score(y_test, y_pred).round(4))"
   ]
  }
 ],
 "metadata": {
  "accelerator": "GPU",
  "colab": {
   "collapsed_sections": [],
   "name": "Copy of notebook_emotions.ipynb",
   "provenance": [
    {
     "file_id": "1Q19BrSZx8OkSCrxrDM5BjDA7SMnIxRk3",
     "timestamp": 1617371377728
    }
   ],
   "toc_visible": true
  },
  "kernelspec": {
   "display_name": "Python 3",
   "language": "python",
   "name": "python3"
  },
  "language_info": {
   "codemirror_mode": {
    "name": "ipython",
    "version": 3
   },
   "file_extension": ".py",
   "mimetype": "text/x-python",
   "name": "python",
   "nbconvert_exporter": "python",
   "pygments_lexer": "ipython3",
   "version": "3.8.5"
  }
 },
 "nbformat": 4,
 "nbformat_minor": 1
}
